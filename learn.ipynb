{
 "cells": [
  {
   "cell_type": "code",
   "execution_count": 1,
   "metadata": {},
   "outputs": [],
   "source": [
    "import cv2 as cv\n",
    "\n",
    "img = cv.imread(\"data/sex.jpg\")"
   ]
  },
  {
   "cell_type": "code",
   "execution_count": 2,
   "metadata": {},
   "outputs": [
    {
     "name": "stdout",
     "output_type": "stream",
     "text": [
      "[[[255 255 246]\n",
      "  [253 255 246]\n",
      "  [255 255 252]\n",
      "  ...\n",
      "  [253 251 255]\n",
      "  [255 253 255]\n",
      "  [253 254 255]]\n",
      "\n",
      " [[255 255 255]\n",
      "  [254 253 255]\n",
      "  [253 252 255]\n",
      "  ...\n",
      "  [246 246 252]\n",
      "  [248 248 254]\n",
      "  [252 253 255]]\n",
      "\n",
      " [[252 246 255]\n",
      "  [195 190 217]\n",
      "  [150 145 176]\n",
      "  ...\n",
      "  [116 119 124]\n",
      "  [108 111 116]\n",
      "  [104 107 112]]\n",
      "\n",
      " ...\n",
      "\n",
      " [[255 255 249]\n",
      "  [153 154 145]\n",
      "  [152 153 144]\n",
      "  ...\n",
      "  [157 154 146]\n",
      "  [152 149 141]\n",
      "  [154 151 143]]\n",
      "\n",
      " [[255 255 251]\n",
      "  [153 153 147]\n",
      "  [152 152 146]\n",
      "  ...\n",
      "  [149 147 139]\n",
      "  [150 148 140]\n",
      "  [154 152 144]]\n",
      "\n",
      " [[255 255 251]\n",
      "  [153 153 147]\n",
      "  [152 152 146]\n",
      "  ...\n",
      "  [150 148 140]\n",
      "  [151 149 141]\n",
      "  [155 153 145]]]\n"
     ]
    }
   ],
   "source": [
    "print(img)"
   ]
  },
  {
   "cell_type": "code",
   "execution_count": 3,
   "metadata": {},
   "outputs": [
    {
     "name": "stdout",
     "output_type": "stream",
     "text": [
      "<class 'numpy.ndarray'>\n"
     ]
    }
   ],
   "source": [
    "print(type(img)) "
   ]
  },
  {
   "cell_type": "code",
   "execution_count": 4,
   "metadata": {},
   "outputs": [
    {
     "name": "stdout",
     "output_type": "stream",
     "text": [
      "(402, 401, 3)\n"
     ]
    }
   ],
   "source": [
    "print(img.shape)"
   ]
  }
 ],
 "metadata": {
  "kernelspec": {
   "display_name": "base",
   "language": "python",
   "name": "python3"
  },
  "language_info": {
   "codemirror_mode": {
    "name": "ipython",
    "version": 3
   },
   "file_extension": ".py",
   "mimetype": "text/x-python",
   "name": "python",
   "nbconvert_exporter": "python",
   "pygments_lexer": "ipython3",
   "version": "3.10.9"
  },
  "orig_nbformat": 4
 },
 "nbformat": 4,
 "nbformat_minor": 2
}
